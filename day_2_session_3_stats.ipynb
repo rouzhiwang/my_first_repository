{
 "cells": [
  {
   "cell_type": "code",
   "execution_count": 1,
   "metadata": {
    "collapsed": true
   },
   "outputs": [],
   "source": [
    "%matplotlib notebook\n",
    "import pandas as pd\n",
    "import numpy as np\n",
    "import matplotlib.pyplot as plt"
   ]
  },
  {
   "cell_type": "markdown",
   "metadata": {},
   "source": [
    "create a dates dataset\n",
    "\n",
    "np.random.randn(6, 4) to gen a norally distributed r.v."
   ]
  },
  {
   "cell_type": "code",
   "execution_count": 3,
   "metadata": {},
   "outputs": [],
   "source": [
    "dates = pd.date_range('20140101', periods = 6)\n",
    "df = pd.DataFrame(np.random.randn(6, 4), index = dates, columns = list('ABCD'))"
   ]
  },
  {
   "cell_type": "code",
   "execution_count": 4,
   "metadata": {},
   "outputs": [
    {
     "data": {
      "text/html": [
       "<div>\n",
       "<style>\n",
       "    .dataframe thead tr:only-child th {\n",
       "        text-align: right;\n",
       "    }\n",
       "\n",
       "    .dataframe thead th {\n",
       "        text-align: left;\n",
       "    }\n",
       "\n",
       "    .dataframe tbody tr th {\n",
       "        vertical-align: top;\n",
       "    }\n",
       "</style>\n",
       "<table border=\"1\" class=\"dataframe\">\n",
       "  <thead>\n",
       "    <tr style=\"text-align: right;\">\n",
       "      <th></th>\n",
       "      <th>A</th>\n",
       "      <th>B</th>\n",
       "      <th>C</th>\n",
       "      <th>D</th>\n",
       "    </tr>\n",
       "  </thead>\n",
       "  <tbody>\n",
       "    <tr>\n",
       "      <th>2014-01-01</th>\n",
       "      <td>-0.220496</td>\n",
       "      <td>-0.795761</td>\n",
       "      <td>0.073296</td>\n",
       "      <td>-1.402393</td>\n",
       "    </tr>\n",
       "    <tr>\n",
       "      <th>2014-01-02</th>\n",
       "      <td>0.297683</td>\n",
       "      <td>-0.794821</td>\n",
       "      <td>0.105350</td>\n",
       "      <td>1.628424</td>\n",
       "    </tr>\n",
       "    <tr>\n",
       "      <th>2014-01-03</th>\n",
       "      <td>-0.097817</td>\n",
       "      <td>0.865610</td>\n",
       "      <td>-0.253718</td>\n",
       "      <td>-1.746750</td>\n",
       "    </tr>\n",
       "    <tr>\n",
       "      <th>2014-01-04</th>\n",
       "      <td>-1.368866</td>\n",
       "      <td>0.733575</td>\n",
       "      <td>1.211623</td>\n",
       "      <td>-0.395342</td>\n",
       "    </tr>\n",
       "    <tr>\n",
       "      <th>2014-01-05</th>\n",
       "      <td>1.867815</td>\n",
       "      <td>0.980242</td>\n",
       "      <td>-0.503409</td>\n",
       "      <td>-2.022562</td>\n",
       "    </tr>\n",
       "    <tr>\n",
       "      <th>2014-01-06</th>\n",
       "      <td>-1.048301</td>\n",
       "      <td>0.836544</td>\n",
       "      <td>0.689084</td>\n",
       "      <td>-0.499021</td>\n",
       "    </tr>\n",
       "  </tbody>\n",
       "</table>\n",
       "</div>"
      ],
      "text/plain": [
       "                   A         B         C         D\n",
       "2014-01-01 -0.220496 -0.795761  0.073296 -1.402393\n",
       "2014-01-02  0.297683 -0.794821  0.105350  1.628424\n",
       "2014-01-03 -0.097817  0.865610 -0.253718 -1.746750\n",
       "2014-01-04 -1.368866  0.733575  1.211623 -0.395342\n",
       "2014-01-05  1.867815  0.980242 -0.503409 -2.022562\n",
       "2014-01-06 -1.048301  0.836544  0.689084 -0.499021"
      ]
     },
     "execution_count": 4,
     "metadata": {},
     "output_type": "execute_result"
    }
   ],
   "source": [
    "df"
   ]
  },
  {
   "cell_type": "markdown",
   "metadata": {},
   "source": [
    "empirical rule for normal distributed r.v., 68%, 95%, 99%"
   ]
  },
  {
   "cell_type": "code",
   "execution_count": 6,
   "metadata": {},
   "outputs": [
    {
     "data": {
      "text/plain": [
       "A    3.236681\n",
       "B    1.776003\n",
       "C    1.715032\n",
       "D    3.650986\n",
       "dtype: float64"
      ]
     },
     "execution_count": 6,
     "metadata": {},
     "output_type": "execute_result"
    }
   ],
   "source": [
    "df.apply(lambda x: x.max() - x.min())"
   ]
  },
  {
   "cell_type": "code",
   "execution_count": 7,
   "metadata": {},
   "outputs": [
    {
     "data": {
      "text/plain": [
       "-1.3688660366739362"
      ]
     },
     "execution_count": 7,
     "metadata": {},
     "output_type": "execute_result"
    }
   ],
   "source": [
    "df.A.min()\n",
    "#min value of column A"
   ]
  },
  {
   "cell_type": "code",
   "execution_count": 8,
   "metadata": {},
   "outputs": [
    {
     "data": {
      "text/plain": [
       "1.8678151257060784"
      ]
     },
     "execution_count": 8,
     "metadata": {},
     "output_type": "execute_result"
    }
   ],
   "source": [
    "df.A.max()"
   ]
  },
  {
   "cell_type": "markdown",
   "metadata": {},
   "source": [
    "# Statistics Functions\n",
    "Statistics Datasets:\n",
    "https://drive.google.com/open?id=1PqbZGnluGWbs7SFbUWzphv1c5oUcoKG6"
   ]
  },
  {
   "cell_type": "code",
   "execution_count": 9,
   "metadata": {
    "collapsed": true
   },
   "outputs": [],
   "source": [
    "import os"
   ]
  },
  {
   "cell_type": "code",
   "execution_count": 15,
   "metadata": {},
   "outputs": [],
   "source": [
    "data = pd.read_csv('data_stats/ozone.csv')\n",
    "\n",
    "# alternative (don't know how to do that)\n",
    "# data = pd.read_csv(os.path.join('..', '..', 'sth' ))\n",
    "# ..let you go up a directory"
   ]
  },
  {
   "cell_type": "code",
   "execution_count": 16,
   "metadata": {},
   "outputs": [
    {
     "data": {
      "text/html": [
       "<div>\n",
       "<style>\n",
       "    .dataframe thead tr:only-child th {\n",
       "        text-align: right;\n",
       "    }\n",
       "\n",
       "    .dataframe thead th {\n",
       "        text-align: left;\n",
       "    }\n",
       "\n",
       "    .dataframe tbody tr th {\n",
       "        vertical-align: top;\n",
       "    }\n",
       "</style>\n",
       "<table border=\"1\" class=\"dataframe\">\n",
       "  <thead>\n",
       "    <tr style=\"text-align: right;\">\n",
       "      <th></th>\n",
       "      <th>Ozone</th>\n",
       "      <th>Solar.R</th>\n",
       "      <th>Wind</th>\n",
       "      <th>Temp</th>\n",
       "      <th>Month</th>\n",
       "      <th>Day</th>\n",
       "    </tr>\n",
       "  </thead>\n",
       "  <tbody>\n",
       "    <tr>\n",
       "      <th>0</th>\n",
       "      <td>41.0</td>\n",
       "      <td>190.0</td>\n",
       "      <td>7.4</td>\n",
       "      <td>67</td>\n",
       "      <td>5</td>\n",
       "      <td>1</td>\n",
       "    </tr>\n",
       "    <tr>\n",
       "      <th>1</th>\n",
       "      <td>36.0</td>\n",
       "      <td>118.0</td>\n",
       "      <td>8.0</td>\n",
       "      <td>72</td>\n",
       "      <td>5</td>\n",
       "      <td>2</td>\n",
       "    </tr>\n",
       "    <tr>\n",
       "      <th>2</th>\n",
       "      <td>12.0</td>\n",
       "      <td>149.0</td>\n",
       "      <td>12.6</td>\n",
       "      <td>74</td>\n",
       "      <td>5</td>\n",
       "      <td>3</td>\n",
       "    </tr>\n",
       "    <tr>\n",
       "      <th>3</th>\n",
       "      <td>18.0</td>\n",
       "      <td>313.0</td>\n",
       "      <td>11.5</td>\n",
       "      <td>62</td>\n",
       "      <td>5</td>\n",
       "      <td>4</td>\n",
       "    </tr>\n",
       "    <tr>\n",
       "      <th>4</th>\n",
       "      <td>NaN</td>\n",
       "      <td>NaN</td>\n",
       "      <td>14.3</td>\n",
       "      <td>56</td>\n",
       "      <td>5</td>\n",
       "      <td>5</td>\n",
       "    </tr>\n",
       "  </tbody>\n",
       "</table>\n",
       "</div>"
      ],
      "text/plain": [
       "   Ozone  Solar.R  Wind  Temp  Month  Day\n",
       "0   41.0    190.0   7.4    67      5    1\n",
       "1   36.0    118.0   8.0    72      5    2\n",
       "2   12.0    149.0  12.6    74      5    3\n",
       "3   18.0    313.0  11.5    62      5    4\n",
       "4    NaN      NaN  14.3    56      5    5"
      ]
     },
     "execution_count": 16,
     "metadata": {},
     "output_type": "execute_result"
    }
   ],
   "source": [
    "data.head(n=5)"
   ]
  },
  {
   "cell_type": "code",
   "execution_count": 17,
   "metadata": {},
   "outputs": [
    {
     "data": {
      "text/plain": [
       "Index(['Ozone', 'Solar.R', 'Wind', 'Temp', 'Month', 'Day'], dtype='object')"
      ]
     },
     "execution_count": 17,
     "metadata": {},
     "output_type": "execute_result"
    }
   ],
   "source": [
    "data.columns"
   ]
  },
  {
   "cell_type": "code",
   "execution_count": 18,
   "metadata": {},
   "outputs": [
    {
     "name": "stdout",
     "output_type": "stream",
     "text": [
      "Ozone\n",
      "Solar.R\n",
      "Wind\n",
      "Temp\n",
      "Month\n",
      "Day\n"
     ]
    }
   ],
   "source": [
    "for x in data.columns.values:\n",
    "    print(x)"
   ]
  },
  {
   "cell_type": "code",
   "execution_count": 20,
   "metadata": {},
   "outputs": [
    {
     "name": "stdout",
     "output_type": "stream",
     "text": [
      "   Ozone  Solar.R  Wind  Temp  Month  Day\n",
      "0   41.0    190.0   7.4    67      5    1\n",
      "1   36.0    118.0   8.0    72      5    2\n"
     ]
    }
   ],
   "source": [
    "tmp = data.ix[0:1]\n",
    "print(tmp.head())"
   ]
  },
  {
   "cell_type": "code",
   "execution_count": 21,
   "metadata": {
    "collapsed": true
   },
   "outputs": [],
   "source": [
    "data.ix?"
   ]
  },
  {
   "cell_type": "code",
   "execution_count": 23,
   "metadata": {},
   "outputs": [
    {
     "name": "stdout",
     "output_type": "stream",
     "text": [
      "153\n"
     ]
    }
   ],
   "source": [
    "print(len(data))\n",
    "# #rows in the data"
   ]
  },
  {
   "cell_type": "code",
   "execution_count": 24,
   "metadata": {},
   "outputs": [
    {
     "name": "stdout",
     "output_type": "stream",
     "text": [
      "42.12931034482759\n"
     ]
    }
   ],
   "source": [
    "print(data.Ozone.mean())"
   ]
  },
  {
   "cell_type": "code",
   "execution_count": 25,
   "metadata": {},
   "outputs": [
    {
     "name": "stdout",
     "output_type": "stream",
     "text": [
      "count    116.000000\n",
      "mean      42.129310\n",
      "std       32.987885\n",
      "min        1.000000\n",
      "25%       18.000000\n",
      "50%       31.500000\n",
      "75%       63.250000\n",
      "max      168.000000\n",
      "Name: Ozone, dtype: float64\n"
     ]
    }
   ],
   "source": [
    "print(data.Ozone.describe())"
   ]
  },
  {
   "cell_type": "code",
   "execution_count": 30,
   "metadata": {},
   "outputs": [
    {
     "name": "stdout",
     "output_type": "stream",
     "text": [
      "Ozone       31.5\n",
      "Solar.R    205.0\n",
      "Wind         9.7\n",
      "Temp        79.0\n",
      "Month        7.0\n",
      "Day         16.0\n",
      "dtype: float64\n"
     ]
    }
   ],
   "source": [
    "print(data.median())\n",
    "# print(data.mode())\n",
    "# print(data.min())\n",
    "# print(data.max())"
   ]
  },
  {
   "cell_type": "code",
   "execution_count": 40,
   "metadata": {},
   "outputs": [
    {
     "name": "stdout",
     "output_type": "stream",
     "text": [
      "212.8\n"
     ]
    }
   ],
   "source": [
    "# restrict to specific data frame, and calculate mean of a specific variable within that data frame\n",
    "print(data[(data.Ozone > 31) & (data.Temp > 90)]['Solar.R'].mean())\n",
    "# for when both is true"
   ]
  },
  {
   "cell_type": "code",
   "execution_count": 39,
   "metadata": {},
   "outputs": [
    {
     "name": "stdout",
     "output_type": "stream",
     "text": [
      "217.79661016949152\n"
     ]
    }
   ],
   "source": [
    "print(data[(data.Ozone > 31) | (data.Temp > 90)]['Solar.R'].mean())\n",
    "# | means or\n",
    "# for either or os true"
   ]
  },
  {
   "cell_type": "code",
   "execution_count": 44,
   "metadata": {},
   "outputs": [
    {
     "name": "stdout",
     "output_type": "stream",
     "text": [
      "79.1\n"
     ]
    }
   ],
   "source": [
    "print(data[data.Month ==6].Temp.mean())\n",
    "# equal for logic ==; not equal != (as in stata)"
   ]
  },
  {
   "cell_type": "markdown",
   "metadata": {},
   "source": [
    "See if anything is biasing the data"
   ]
  },
  {
   "cell_type": "code",
   "execution_count": 45,
   "metadata": {},
   "outputs": [
    {
     "name": "stdout",
     "output_type": "stream",
     "text": [
      "count    30.000000\n",
      "mean     79.100000\n",
      "std       6.598589\n",
      "min      65.000000\n",
      "25%      76.000000\n",
      "50%      78.000000\n",
      "75%      82.750000\n",
      "max      93.000000\n",
      "Name: Temp, dtype: float64\n"
     ]
    }
   ],
   "source": [
    "print(data[data.Month ==6].Temp.describe())"
   ]
  },
  {
   "cell_type": "code",
   "execution_count": 46,
   "metadata": {},
   "outputs": [
    {
     "name": "stdout",
     "output_type": "stream",
     "text": [
      "count    153.000000\n",
      "mean      77.882353\n",
      "std        9.465270\n",
      "min       56.000000\n",
      "25%       72.000000\n",
      "50%       79.000000\n",
      "75%       85.000000\n",
      "max       97.000000\n",
      "Name: Temp, dtype: float64\n"
     ]
    }
   ],
   "source": [
    "print(data.Temp.describe())"
   ]
  },
  {
   "cell_type": "code",
   "execution_count": 47,
   "metadata": {},
   "outputs": [
    {
     "name": "stdout",
     "output_type": "stream",
     "text": [
      "89.59133126934981\n"
     ]
    }
   ],
   "source": [
    "print(data.Temp.var())"
   ]
  },
  {
   "cell_type": "code",
   "execution_count": 48,
   "metadata": {},
   "outputs": [
    {
     "name": "stdout",
     "output_type": "stream",
     "text": [
      "9.465269740971454\n"
     ]
    }
   ],
   "source": [
    "print(data.Temp.std())"
   ]
  },
  {
   "cell_type": "code",
   "execution_count": 49,
   "metadata": {},
   "outputs": [
    {
     "name": "stdout",
     "output_type": "stream",
     "text": [
      "            Ozone   Solar.R      Wind      Temp     Month       Day\n",
      "Ozone    1.000000  0.348342 -0.601547  0.698360  0.164519 -0.013226\n",
      "Solar.R  0.348342  1.000000 -0.056792  0.275840 -0.075301 -0.150275\n",
      "Wind    -0.601547 -0.056792  1.000000 -0.457988 -0.178293  0.027181\n",
      "Temp     0.698360  0.275840 -0.457988  1.000000  0.420947 -0.130593\n",
      "Month    0.164519 -0.075301 -0.178293  0.420947  1.000000 -0.007962\n",
      "Day     -0.013226 -0.150275  0.027181 -0.130593 -0.007962  1.000000\n"
     ]
    }
   ],
   "source": [
    "print(data.corr())"
   ]
  },
  {
   "cell_type": "code",
   "execution_count": 53,
   "metadata": {},
   "outputs": [
    {
     "name": "stdout",
     "output_type": "stream",
     "text": [
      "            Ozone   Solar.R      Wind      Temp     Month       Day\n",
      "Ozone    1.000000  0.348186 -0.590155  0.774043  0.137861 -0.056198\n",
      "Solar.R  0.348186  1.000000 -0.000977  0.207428 -0.127823 -0.152308\n",
      "Wind    -0.590155 -0.000977  1.000000 -0.446541 -0.157849  0.037569\n",
      "Temp     0.774043  0.207428 -0.446541  1.000000  0.372075 -0.157068\n",
      "Month    0.137861 -0.127823 -0.157849  0.372075  1.000000 -0.007852\n",
      "Day     -0.056198 -0.152308  0.037569 -0.157068 -0.007852  1.000000\n"
     ]
    }
   ],
   "source": [
    "print(data.corr(method = 'spearman'))"
   ]
  },
  {
   "cell_type": "markdown",
   "metadata": {},
   "source": [
    "sklearn is good for machine learning, but we start from statsmodels"
   ]
  },
  {
   "cell_type": "markdown",
   "metadata": {},
   "source": [
    "Stats Book for R (python data set):\n",
    "http://www-bcf.usc.edu/~gareth/ISL/\n",
    "\n",
    "*****\n",
    "http://www-bcf.usc.edu/~gareth/ISL/Advertising.csv\n",
    "*****\n",
    "\n",
    "StatsModels: http://www.statsmodels.org/stable/index.html\n",
    "sklearn: http://scikit-learn.org/stable/"
   ]
  },
  {
   "cell_type": "markdown",
   "metadata": {},
   "source": [
    "`download`: data directely from web"
   ]
  },
  {
   "cell_type": "code",
   "execution_count": 60,
   "metadata": {
    "collapsed": true
   },
   "outputs": [],
   "source": [
    "advertising = pd.read_csv('http://www-bcf.usc.edu/~gareth/ISL/Advertising.csv', index_col = 0)\n",
    "# add index_col = 0 to set the first column, remove a column to make the csv file in right order"
   ]
  },
  {
   "cell_type": "code",
   "execution_count": 62,
   "metadata": {},
   "outputs": [
    {
     "name": "stdout",
     "output_type": "stream",
     "text": [
      "      TV  radio  newspaper  sales\n",
      "1  230.1   37.8       69.2   22.1\n",
      "2   44.5   39.3       45.1   10.4\n",
      "3   17.2   45.9       69.3    9.3\n",
      "4  151.5   41.3       58.5   18.5\n",
      "5  180.8   10.8       58.4   12.9\n"
     ]
    }
   ],
   "source": [
    "print(advertising.head())"
   ]
  },
  {
   "cell_type": "code",
   "execution_count": 64,
   "metadata": {},
   "outputs": [
    {
     "data": {
      "text/plain": [
       "(200, 4)"
      ]
     },
     "execution_count": 64,
     "metadata": {},
     "output_type": "execute_result"
    }
   ],
   "source": [
    "advertising.shape\n",
    "# #rows and #columns"
   ]
  },
  {
   "cell_type": "code",
   "execution_count": 73,
   "metadata": {},
   "outputs": [
    {
     "data": {
      "application/javascript": [
       "/* Put everything inside the global mpl namespace */\n",
       "window.mpl = {};\n",
       "\n",
       "\n",
       "mpl.get_websocket_type = function() {\n",
       "    if (typeof(WebSocket) !== 'undefined') {\n",
       "        return WebSocket;\n",
       "    } else if (typeof(MozWebSocket) !== 'undefined') {\n",
       "        return MozWebSocket;\n",
       "    } else {\n",
       "        alert('Your browser does not have WebSocket support.' +\n",
       "              'Please try Chrome, Safari or Firefox ≥ 6. ' +\n",
       "              'Firefox 4 and 5 are also supported but you ' +\n",
       "              'have to enable WebSockets in about:config.');\n",
       "    };\n",
       "}\n",
       "\n",
       "mpl.figure = function(figure_id, websocket, ondownload, parent_element) {\n",
       "    this.id = figure_id;\n",
       "\n",
       "    this.ws = websocket;\n",
       "\n",
       "    this.supports_binary = (this.ws.binaryType != undefined);\n",
       "\n",
       "    if (!this.supports_binary) {\n",
       "        var warnings = document.getElementById(\"mpl-warnings\");\n",
       "        if (warnings) {\n",
       "            warnings.style.display = 'block';\n",
       "            warnings.textContent = (\n",
       "                \"This browser does not support binary websocket messages. \" +\n",
       "                    \"Performance may be slow.\");\n",
       "        }\n",
       "    }\n",
       "\n",
       "    this.imageObj = new Image();\n",
       "\n",
       "    this.context = undefined;\n",
       "    this.message = undefined;\n",
       "    this.canvas = undefined;\n",
       "    this.rubberband_canvas = undefined;\n",
       "    this.rubberband_context = undefined;\n",
       "    this.format_dropdown = undefined;\n",
       "\n",
       "    this.image_mode = 'full';\n",
       "\n",
       "    this.root = $('<div/>');\n",
       "    this._root_extra_style(this.root)\n",
       "    this.root.attr('style', 'display: inline-block');\n",
       "\n",
       "    $(parent_element).append(this.root);\n",
       "\n",
       "    this._init_header(this);\n",
       "    this._init_canvas(this);\n",
       "    this._init_toolbar(this);\n",
       "\n",
       "    var fig = this;\n",
       "\n",
       "    this.waiting = false;\n",
       "\n",
       "    this.ws.onopen =  function () {\n",
       "            fig.send_message(\"supports_binary\", {value: fig.supports_binary});\n",
       "            fig.send_message(\"send_image_mode\", {});\n",
       "            if (mpl.ratio != 1) {\n",
       "                fig.send_message(\"set_dpi_ratio\", {'dpi_ratio': mpl.ratio});\n",
       "            }\n",
       "            fig.send_message(\"refresh\", {});\n",
       "        }\n",
       "\n",
       "    this.imageObj.onload = function() {\n",
       "            if (fig.image_mode == 'full') {\n",
       "                // Full images could contain transparency (where diff images\n",
       "                // almost always do), so we need to clear the canvas so that\n",
       "                // there is no ghosting.\n",
       "                fig.context.clearRect(0, 0, fig.canvas.width, fig.canvas.height);\n",
       "            }\n",
       "            fig.context.drawImage(fig.imageObj, 0, 0);\n",
       "        };\n",
       "\n",
       "    this.imageObj.onunload = function() {\n",
       "        fig.ws.close();\n",
       "    }\n",
       "\n",
       "    this.ws.onmessage = this._make_on_message_function(this);\n",
       "\n",
       "    this.ondownload = ondownload;\n",
       "}\n",
       "\n",
       "mpl.figure.prototype._init_header = function() {\n",
       "    var titlebar = $(\n",
       "        '<div class=\"ui-dialog-titlebar ui-widget-header ui-corner-all ' +\n",
       "        'ui-helper-clearfix\"/>');\n",
       "    var titletext = $(\n",
       "        '<div class=\"ui-dialog-title\" style=\"width: 100%; ' +\n",
       "        'text-align: center; padding: 3px;\"/>');\n",
       "    titlebar.append(titletext)\n",
       "    this.root.append(titlebar);\n",
       "    this.header = titletext[0];\n",
       "}\n",
       "\n",
       "\n",
       "\n",
       "mpl.figure.prototype._canvas_extra_style = function(canvas_div) {\n",
       "\n",
       "}\n",
       "\n",
       "\n",
       "mpl.figure.prototype._root_extra_style = function(canvas_div) {\n",
       "\n",
       "}\n",
       "\n",
       "mpl.figure.prototype._init_canvas = function() {\n",
       "    var fig = this;\n",
       "\n",
       "    var canvas_div = $('<div/>');\n",
       "\n",
       "    canvas_div.attr('style', 'position: relative; clear: both; outline: 0');\n",
       "\n",
       "    function canvas_keyboard_event(event) {\n",
       "        return fig.key_event(event, event['data']);\n",
       "    }\n",
       "\n",
       "    canvas_div.keydown('key_press', canvas_keyboard_event);\n",
       "    canvas_div.keyup('key_release', canvas_keyboard_event);\n",
       "    this.canvas_div = canvas_div\n",
       "    this._canvas_extra_style(canvas_div)\n",
       "    this.root.append(canvas_div);\n",
       "\n",
       "    var canvas = $('<canvas/>');\n",
       "    canvas.addClass('mpl-canvas');\n",
       "    canvas.attr('style', \"left: 0; top: 0; z-index: 0; outline: 0\")\n",
       "\n",
       "    this.canvas = canvas[0];\n",
       "    this.context = canvas[0].getContext(\"2d\");\n",
       "\n",
       "    var backingStore = this.context.backingStorePixelRatio ||\n",
       "\tthis.context.webkitBackingStorePixelRatio ||\n",
       "\tthis.context.mozBackingStorePixelRatio ||\n",
       "\tthis.context.msBackingStorePixelRatio ||\n",
       "\tthis.context.oBackingStorePixelRatio ||\n",
       "\tthis.context.backingStorePixelRatio || 1;\n",
       "\n",
       "    mpl.ratio = (window.devicePixelRatio || 1) / backingStore;\n",
       "\n",
       "    var rubberband = $('<canvas/>');\n",
       "    rubberband.attr('style', \"position: absolute; left: 0; top: 0; z-index: 1;\")\n",
       "\n",
       "    var pass_mouse_events = true;\n",
       "\n",
       "    canvas_div.resizable({\n",
       "        start: function(event, ui) {\n",
       "            pass_mouse_events = false;\n",
       "        },\n",
       "        resize: function(event, ui) {\n",
       "            fig.request_resize(ui.size.width, ui.size.height);\n",
       "        },\n",
       "        stop: function(event, ui) {\n",
       "            pass_mouse_events = true;\n",
       "            fig.request_resize(ui.size.width, ui.size.height);\n",
       "        },\n",
       "    });\n",
       "\n",
       "    function mouse_event_fn(event) {\n",
       "        if (pass_mouse_events)\n",
       "            return fig.mouse_event(event, event['data']);\n",
       "    }\n",
       "\n",
       "    rubberband.mousedown('button_press', mouse_event_fn);\n",
       "    rubberband.mouseup('button_release', mouse_event_fn);\n",
       "    // Throttle sequential mouse events to 1 every 20ms.\n",
       "    rubberband.mousemove('motion_notify', mouse_event_fn);\n",
       "\n",
       "    rubberband.mouseenter('figure_enter', mouse_event_fn);\n",
       "    rubberband.mouseleave('figure_leave', mouse_event_fn);\n",
       "\n",
       "    canvas_div.on(\"wheel\", function (event) {\n",
       "        event = event.originalEvent;\n",
       "        event['data'] = 'scroll'\n",
       "        if (event.deltaY < 0) {\n",
       "            event.step = 1;\n",
       "        } else {\n",
       "            event.step = -1;\n",
       "        }\n",
       "        mouse_event_fn(event);\n",
       "    });\n",
       "\n",
       "    canvas_div.append(canvas);\n",
       "    canvas_div.append(rubberband);\n",
       "\n",
       "    this.rubberband = rubberband;\n",
       "    this.rubberband_canvas = rubberband[0];\n",
       "    this.rubberband_context = rubberband[0].getContext(\"2d\");\n",
       "    this.rubberband_context.strokeStyle = \"#000000\";\n",
       "\n",
       "    this._resize_canvas = function(width, height) {\n",
       "        // Keep the size of the canvas, canvas container, and rubber band\n",
       "        // canvas in synch.\n",
       "        canvas_div.css('width', width)\n",
       "        canvas_div.css('height', height)\n",
       "\n",
       "        canvas.attr('width', width * mpl.ratio);\n",
       "        canvas.attr('height', height * mpl.ratio);\n",
       "        canvas.attr('style', 'width: ' + width + 'px; height: ' + height + 'px;');\n",
       "\n",
       "        rubberband.attr('width', width);\n",
       "        rubberband.attr('height', height);\n",
       "    }\n",
       "\n",
       "    // Set the figure to an initial 600x600px, this will subsequently be updated\n",
       "    // upon first draw.\n",
       "    this._resize_canvas(600, 600);\n",
       "\n",
       "    // Disable right mouse context menu.\n",
       "    $(this.rubberband_canvas).bind(\"contextmenu\",function(e){\n",
       "        return false;\n",
       "    });\n",
       "\n",
       "    function set_focus () {\n",
       "        canvas.focus();\n",
       "        canvas_div.focus();\n",
       "    }\n",
       "\n",
       "    window.setTimeout(set_focus, 100);\n",
       "}\n",
       "\n",
       "mpl.figure.prototype._init_toolbar = function() {\n",
       "    var fig = this;\n",
       "\n",
       "    var nav_element = $('<div/>')\n",
       "    nav_element.attr('style', 'width: 100%');\n",
       "    this.root.append(nav_element);\n",
       "\n",
       "    // Define a callback function for later on.\n",
       "    function toolbar_event(event) {\n",
       "        return fig.toolbar_button_onclick(event['data']);\n",
       "    }\n",
       "    function toolbar_mouse_event(event) {\n",
       "        return fig.toolbar_button_onmouseover(event['data']);\n",
       "    }\n",
       "\n",
       "    for(var toolbar_ind in mpl.toolbar_items) {\n",
       "        var name = mpl.toolbar_items[toolbar_ind][0];\n",
       "        var tooltip = mpl.toolbar_items[toolbar_ind][1];\n",
       "        var image = mpl.toolbar_items[toolbar_ind][2];\n",
       "        var method_name = mpl.toolbar_items[toolbar_ind][3];\n",
       "\n",
       "        if (!name) {\n",
       "            // put a spacer in here.\n",
       "            continue;\n",
       "        }\n",
       "        var button = $('<button/>');\n",
       "        button.addClass('ui-button ui-widget ui-state-default ui-corner-all ' +\n",
       "                        'ui-button-icon-only');\n",
       "        button.attr('role', 'button');\n",
       "        button.attr('aria-disabled', 'false');\n",
       "        button.click(method_name, toolbar_event);\n",
       "        button.mouseover(tooltip, toolbar_mouse_event);\n",
       "\n",
       "        var icon_img = $('<span/>');\n",
       "        icon_img.addClass('ui-button-icon-primary ui-icon');\n",
       "        icon_img.addClass(image);\n",
       "        icon_img.addClass('ui-corner-all');\n",
       "\n",
       "        var tooltip_span = $('<span/>');\n",
       "        tooltip_span.addClass('ui-button-text');\n",
       "        tooltip_span.html(tooltip);\n",
       "\n",
       "        button.append(icon_img);\n",
       "        button.append(tooltip_span);\n",
       "\n",
       "        nav_element.append(button);\n",
       "    }\n",
       "\n",
       "    var fmt_picker_span = $('<span/>');\n",
       "\n",
       "    var fmt_picker = $('<select/>');\n",
       "    fmt_picker.addClass('mpl-toolbar-option ui-widget ui-widget-content');\n",
       "    fmt_picker_span.append(fmt_picker);\n",
       "    nav_element.append(fmt_picker_span);\n",
       "    this.format_dropdown = fmt_picker[0];\n",
       "\n",
       "    for (var ind in mpl.extensions) {\n",
       "        var fmt = mpl.extensions[ind];\n",
       "        var option = $(\n",
       "            '<option/>', {selected: fmt === mpl.default_extension}).html(fmt);\n",
       "        fmt_picker.append(option)\n",
       "    }\n",
       "\n",
       "    // Add hover states to the ui-buttons\n",
       "    $( \".ui-button\" ).hover(\n",
       "        function() { $(this).addClass(\"ui-state-hover\");},\n",
       "        function() { $(this).removeClass(\"ui-state-hover\");}\n",
       "    );\n",
       "\n",
       "    var status_bar = $('<span class=\"mpl-message\"/>');\n",
       "    nav_element.append(status_bar);\n",
       "    this.message = status_bar[0];\n",
       "}\n",
       "\n",
       "mpl.figure.prototype.request_resize = function(x_pixels, y_pixels) {\n",
       "    // Request matplotlib to resize the figure. Matplotlib will then trigger a resize in the client,\n",
       "    // which will in turn request a refresh of the image.\n",
       "    this.send_message('resize', {'width': x_pixels, 'height': y_pixels});\n",
       "}\n",
       "\n",
       "mpl.figure.prototype.send_message = function(type, properties) {\n",
       "    properties['type'] = type;\n",
       "    properties['figure_id'] = this.id;\n",
       "    this.ws.send(JSON.stringify(properties));\n",
       "}\n",
       "\n",
       "mpl.figure.prototype.send_draw_message = function() {\n",
       "    if (!this.waiting) {\n",
       "        this.waiting = true;\n",
       "        this.ws.send(JSON.stringify({type: \"draw\", figure_id: this.id}));\n",
       "    }\n",
       "}\n",
       "\n",
       "\n",
       "mpl.figure.prototype.handle_save = function(fig, msg) {\n",
       "    var format_dropdown = fig.format_dropdown;\n",
       "    var format = format_dropdown.options[format_dropdown.selectedIndex].value;\n",
       "    fig.ondownload(fig, format);\n",
       "}\n",
       "\n",
       "\n",
       "mpl.figure.prototype.handle_resize = function(fig, msg) {\n",
       "    var size = msg['size'];\n",
       "    if (size[0] != fig.canvas.width || size[1] != fig.canvas.height) {\n",
       "        fig._resize_canvas(size[0], size[1]);\n",
       "        fig.send_message(\"refresh\", {});\n",
       "    };\n",
       "}\n",
       "\n",
       "mpl.figure.prototype.handle_rubberband = function(fig, msg) {\n",
       "    var x0 = msg['x0'] / mpl.ratio;\n",
       "    var y0 = (fig.canvas.height - msg['y0']) / mpl.ratio;\n",
       "    var x1 = msg['x1'] / mpl.ratio;\n",
       "    var y1 = (fig.canvas.height - msg['y1']) / mpl.ratio;\n",
       "    x0 = Math.floor(x0) + 0.5;\n",
       "    y0 = Math.floor(y0) + 0.5;\n",
       "    x1 = Math.floor(x1) + 0.5;\n",
       "    y1 = Math.floor(y1) + 0.5;\n",
       "    var min_x = Math.min(x0, x1);\n",
       "    var min_y = Math.min(y0, y1);\n",
       "    var width = Math.abs(x1 - x0);\n",
       "    var height = Math.abs(y1 - y0);\n",
       "\n",
       "    fig.rubberband_context.clearRect(\n",
       "        0, 0, fig.canvas.width, fig.canvas.height);\n",
       "\n",
       "    fig.rubberband_context.strokeRect(min_x, min_y, width, height);\n",
       "}\n",
       "\n",
       "mpl.figure.prototype.handle_figure_label = function(fig, msg) {\n",
       "    // Updates the figure title.\n",
       "    fig.header.textContent = msg['label'];\n",
       "}\n",
       "\n",
       "mpl.figure.prototype.handle_cursor = function(fig, msg) {\n",
       "    var cursor = msg['cursor'];\n",
       "    switch(cursor)\n",
       "    {\n",
       "    case 0:\n",
       "        cursor = 'pointer';\n",
       "        break;\n",
       "    case 1:\n",
       "        cursor = 'default';\n",
       "        break;\n",
       "    case 2:\n",
       "        cursor = 'crosshair';\n",
       "        break;\n",
       "    case 3:\n",
       "        cursor = 'move';\n",
       "        break;\n",
       "    }\n",
       "    fig.rubberband_canvas.style.cursor = cursor;\n",
       "}\n",
       "\n",
       "mpl.figure.prototype.handle_message = function(fig, msg) {\n",
       "    fig.message.textContent = msg['message'];\n",
       "}\n",
       "\n",
       "mpl.figure.prototype.handle_draw = function(fig, msg) {\n",
       "    // Request the server to send over a new figure.\n",
       "    fig.send_draw_message();\n",
       "}\n",
       "\n",
       "mpl.figure.prototype.handle_image_mode = function(fig, msg) {\n",
       "    fig.image_mode = msg['mode'];\n",
       "}\n",
       "\n",
       "mpl.figure.prototype.updated_canvas_event = function() {\n",
       "    // Called whenever the canvas gets updated.\n",
       "    this.send_message(\"ack\", {});\n",
       "}\n",
       "\n",
       "// A function to construct a web socket function for onmessage handling.\n",
       "// Called in the figure constructor.\n",
       "mpl.figure.prototype._make_on_message_function = function(fig) {\n",
       "    return function socket_on_message(evt) {\n",
       "        if (evt.data instanceof Blob) {\n",
       "            /* FIXME: We get \"Resource interpreted as Image but\n",
       "             * transferred with MIME type text/plain:\" errors on\n",
       "             * Chrome.  But how to set the MIME type?  It doesn't seem\n",
       "             * to be part of the websocket stream */\n",
       "            evt.data.type = \"image/png\";\n",
       "\n",
       "            /* Free the memory for the previous frames */\n",
       "            if (fig.imageObj.src) {\n",
       "                (window.URL || window.webkitURL).revokeObjectURL(\n",
       "                    fig.imageObj.src);\n",
       "            }\n",
       "\n",
       "            fig.imageObj.src = (window.URL || window.webkitURL).createObjectURL(\n",
       "                evt.data);\n",
       "            fig.updated_canvas_event();\n",
       "            fig.waiting = false;\n",
       "            return;\n",
       "        }\n",
       "        else if (typeof evt.data === 'string' && evt.data.slice(0, 21) == \"data:image/png;base64\") {\n",
       "            fig.imageObj.src = evt.data;\n",
       "            fig.updated_canvas_event();\n",
       "            fig.waiting = false;\n",
       "            return;\n",
       "        }\n",
       "\n",
       "        var msg = JSON.parse(evt.data);\n",
       "        var msg_type = msg['type'];\n",
       "\n",
       "        // Call the  \"handle_{type}\" callback, which takes\n",
       "        // the figure and JSON message as its only arguments.\n",
       "        try {\n",
       "            var callback = fig[\"handle_\" + msg_type];\n",
       "        } catch (e) {\n",
       "            console.log(\"No handler for the '\" + msg_type + \"' message type: \", msg);\n",
       "            return;\n",
       "        }\n",
       "\n",
       "        if (callback) {\n",
       "            try {\n",
       "                // console.log(\"Handling '\" + msg_type + \"' message: \", msg);\n",
       "                callback(fig, msg);\n",
       "            } catch (e) {\n",
       "                console.log(\"Exception inside the 'handler_\" + msg_type + \"' callback:\", e, e.stack, msg);\n",
       "            }\n",
       "        }\n",
       "    };\n",
       "}\n",
       "\n",
       "// from http://stackoverflow.com/questions/1114465/getting-mouse-location-in-canvas\n",
       "mpl.findpos = function(e) {\n",
       "    //this section is from http://www.quirksmode.org/js/events_properties.html\n",
       "    var targ;\n",
       "    if (!e)\n",
       "        e = window.event;\n",
       "    if (e.target)\n",
       "        targ = e.target;\n",
       "    else if (e.srcElement)\n",
       "        targ = e.srcElement;\n",
       "    if (targ.nodeType == 3) // defeat Safari bug\n",
       "        targ = targ.parentNode;\n",
       "\n",
       "    // jQuery normalizes the pageX and pageY\n",
       "    // pageX,Y are the mouse positions relative to the document\n",
       "    // offset() returns the position of the element relative to the document\n",
       "    var x = e.pageX - $(targ).offset().left;\n",
       "    var y = e.pageY - $(targ).offset().top;\n",
       "\n",
       "    return {\"x\": x, \"y\": y};\n",
       "};\n",
       "\n",
       "/*\n",
       " * return a copy of an object with only non-object keys\n",
       " * we need this to avoid circular references\n",
       " * http://stackoverflow.com/a/24161582/3208463\n",
       " */\n",
       "function simpleKeys (original) {\n",
       "  return Object.keys(original).reduce(function (obj, key) {\n",
       "    if (typeof original[key] !== 'object')\n",
       "        obj[key] = original[key]\n",
       "    return obj;\n",
       "  }, {});\n",
       "}\n",
       "\n",
       "mpl.figure.prototype.mouse_event = function(event, name) {\n",
       "    var canvas_pos = mpl.findpos(event)\n",
       "\n",
       "    if (name === 'button_press')\n",
       "    {\n",
       "        this.canvas.focus();\n",
       "        this.canvas_div.focus();\n",
       "    }\n",
       "\n",
       "    var x = canvas_pos.x * mpl.ratio;\n",
       "    var y = canvas_pos.y * mpl.ratio;\n",
       "\n",
       "    this.send_message(name, {x: x, y: y, button: event.button,\n",
       "                             step: event.step,\n",
       "                             guiEvent: simpleKeys(event)});\n",
       "\n",
       "    /* This prevents the web browser from automatically changing to\n",
       "     * the text insertion cursor when the button is pressed.  We want\n",
       "     * to control all of the cursor setting manually through the\n",
       "     * 'cursor' event from matplotlib */\n",
       "    event.preventDefault();\n",
       "    return false;\n",
       "}\n",
       "\n",
       "mpl.figure.prototype._key_event_extra = function(event, name) {\n",
       "    // Handle any extra behaviour associated with a key event\n",
       "}\n",
       "\n",
       "mpl.figure.prototype.key_event = function(event, name) {\n",
       "\n",
       "    // Prevent repeat events\n",
       "    if (name == 'key_press')\n",
       "    {\n",
       "        if (event.which === this._key)\n",
       "            return;\n",
       "        else\n",
       "            this._key = event.which;\n",
       "    }\n",
       "    if (name == 'key_release')\n",
       "        this._key = null;\n",
       "\n",
       "    var value = '';\n",
       "    if (event.ctrlKey && event.which != 17)\n",
       "        value += \"ctrl+\";\n",
       "    if (event.altKey && event.which != 18)\n",
       "        value += \"alt+\";\n",
       "    if (event.shiftKey && event.which != 16)\n",
       "        value += \"shift+\";\n",
       "\n",
       "    value += 'k';\n",
       "    value += event.which.toString();\n",
       "\n",
       "    this._key_event_extra(event, name);\n",
       "\n",
       "    this.send_message(name, {key: value,\n",
       "                             guiEvent: simpleKeys(event)});\n",
       "    return false;\n",
       "}\n",
       "\n",
       "mpl.figure.prototype.toolbar_button_onclick = function(name) {\n",
       "    if (name == 'download') {\n",
       "        this.handle_save(this, null);\n",
       "    } else {\n",
       "        this.send_message(\"toolbar_button\", {name: name});\n",
       "    }\n",
       "};\n",
       "\n",
       "mpl.figure.prototype.toolbar_button_onmouseover = function(tooltip) {\n",
       "    this.message.textContent = tooltip;\n",
       "};\n",
       "mpl.toolbar_items = [[\"Home\", \"Reset original view\", \"fa fa-home icon-home\", \"home\"], [\"Back\", \"Back to  previous view\", \"fa fa-arrow-left icon-arrow-left\", \"back\"], [\"Forward\", \"Forward to next view\", \"fa fa-arrow-right icon-arrow-right\", \"forward\"], [\"\", \"\", \"\", \"\"], [\"Pan\", \"Pan axes with left mouse, zoom with right\", \"fa fa-arrows icon-move\", \"pan\"], [\"Zoom\", \"Zoom to rectangle\", \"fa fa-square-o icon-check-empty\", \"zoom\"], [\"\", \"\", \"\", \"\"], [\"Download\", \"Download plot\", \"fa fa-floppy-o icon-save\", \"download\"]];\n",
       "\n",
       "mpl.extensions = [\"eps\", \"jpeg\", \"pdf\", \"png\", \"ps\", \"raw\", \"svg\", \"tif\"];\n",
       "\n",
       "mpl.default_extension = \"png\";var comm_websocket_adapter = function(comm) {\n",
       "    // Create a \"websocket\"-like object which calls the given IPython comm\n",
       "    // object with the appropriate methods. Currently this is a non binary\n",
       "    // socket, so there is still some room for performance tuning.\n",
       "    var ws = {};\n",
       "\n",
       "    ws.close = function() {\n",
       "        comm.close()\n",
       "    };\n",
       "    ws.send = function(m) {\n",
       "        //console.log('sending', m);\n",
       "        comm.send(m);\n",
       "    };\n",
       "    // Register the callback with on_msg.\n",
       "    comm.on_msg(function(msg) {\n",
       "        //console.log('receiving', msg['content']['data'], msg);\n",
       "        // Pass the mpl event to the overriden (by mpl) onmessage function.\n",
       "        ws.onmessage(msg['content']['data'])\n",
       "    });\n",
       "    return ws;\n",
       "}\n",
       "\n",
       "mpl.mpl_figure_comm = function(comm, msg) {\n",
       "    // This is the function which gets called when the mpl process\n",
       "    // starts-up an IPython Comm through the \"matplotlib\" channel.\n",
       "\n",
       "    var id = msg.content.data.id;\n",
       "    // Get hold of the div created by the display call when the Comm\n",
       "    // socket was opened in Python.\n",
       "    var element = $(\"#\" + id);\n",
       "    var ws_proxy = comm_websocket_adapter(comm)\n",
       "\n",
       "    function ondownload(figure, format) {\n",
       "        window.open(figure.imageObj.src);\n",
       "    }\n",
       "\n",
       "    var fig = new mpl.figure(id, ws_proxy,\n",
       "                           ondownload,\n",
       "                           element.get(0));\n",
       "\n",
       "    // Call onopen now - mpl needs it, as it is assuming we've passed it a real\n",
       "    // web socket which is closed, not our websocket->open comm proxy.\n",
       "    ws_proxy.onopen();\n",
       "\n",
       "    fig.parent_element = element.get(0);\n",
       "    fig.cell_info = mpl.find_output_cell(\"<div id='\" + id + \"'></div>\");\n",
       "    if (!fig.cell_info) {\n",
       "        console.error(\"Failed to find cell for figure\", id, fig);\n",
       "        return;\n",
       "    }\n",
       "\n",
       "    var output_index = fig.cell_info[2]\n",
       "    var cell = fig.cell_info[0];\n",
       "\n",
       "};\n",
       "\n",
       "mpl.figure.prototype.handle_close = function(fig, msg) {\n",
       "    var width = fig.canvas.width/mpl.ratio\n",
       "    fig.root.unbind('remove')\n",
       "\n",
       "    // Update the output cell to use the data from the current canvas.\n",
       "    fig.push_to_output();\n",
       "    var dataURL = fig.canvas.toDataURL();\n",
       "    // Re-enable the keyboard manager in IPython - without this line, in FF,\n",
       "    // the notebook keyboard shortcuts fail.\n",
       "    IPython.keyboard_manager.enable()\n",
       "    $(fig.parent_element).html('<img src=\"' + dataURL + '\" width=\"' + width + '\">');\n",
       "    fig.close_ws(fig, msg);\n",
       "}\n",
       "\n",
       "mpl.figure.prototype.close_ws = function(fig, msg){\n",
       "    fig.send_message('closing', msg);\n",
       "    // fig.ws.close()\n",
       "}\n",
       "\n",
       "mpl.figure.prototype.push_to_output = function(remove_interactive) {\n",
       "    // Turn the data on the canvas into data in the output cell.\n",
       "    var width = this.canvas.width/mpl.ratio\n",
       "    var dataURL = this.canvas.toDataURL();\n",
       "    this.cell_info[1]['text/html'] = '<img src=\"' + dataURL + '\" width=\"' + width + '\">';\n",
       "}\n",
       "\n",
       "mpl.figure.prototype.updated_canvas_event = function() {\n",
       "    // Tell IPython that the notebook contents must change.\n",
       "    IPython.notebook.set_dirty(true);\n",
       "    this.send_message(\"ack\", {});\n",
       "    var fig = this;\n",
       "    // Wait a second, then push the new image to the DOM so\n",
       "    // that it is saved nicely (might be nice to debounce this).\n",
       "    setTimeout(function () { fig.push_to_output() }, 1000);\n",
       "}\n",
       "\n",
       "mpl.figure.prototype._init_toolbar = function() {\n",
       "    var fig = this;\n",
       "\n",
       "    var nav_element = $('<div/>')\n",
       "    nav_element.attr('style', 'width: 100%');\n",
       "    this.root.append(nav_element);\n",
       "\n",
       "    // Define a callback function for later on.\n",
       "    function toolbar_event(event) {\n",
       "        return fig.toolbar_button_onclick(event['data']);\n",
       "    }\n",
       "    function toolbar_mouse_event(event) {\n",
       "        return fig.toolbar_button_onmouseover(event['data']);\n",
       "    }\n",
       "\n",
       "    for(var toolbar_ind in mpl.toolbar_items){\n",
       "        var name = mpl.toolbar_items[toolbar_ind][0];\n",
       "        var tooltip = mpl.toolbar_items[toolbar_ind][1];\n",
       "        var image = mpl.toolbar_items[toolbar_ind][2];\n",
       "        var method_name = mpl.toolbar_items[toolbar_ind][3];\n",
       "\n",
       "        if (!name) { continue; };\n",
       "\n",
       "        var button = $('<button class=\"btn btn-default\" href=\"#\" title=\"' + name + '\"><i class=\"fa ' + image + ' fa-lg\"></i></button>');\n",
       "        button.click(method_name, toolbar_event);\n",
       "        button.mouseover(tooltip, toolbar_mouse_event);\n",
       "        nav_element.append(button);\n",
       "    }\n",
       "\n",
       "    // Add the status bar.\n",
       "    var status_bar = $('<span class=\"mpl-message\" style=\"text-align:right; float: right;\"/>');\n",
       "    nav_element.append(status_bar);\n",
       "    this.message = status_bar[0];\n",
       "\n",
       "    // Add the close button to the window.\n",
       "    var buttongrp = $('<div class=\"btn-group inline pull-right\"></div>');\n",
       "    var button = $('<button class=\"btn btn-mini btn-primary\" href=\"#\" title=\"Stop Interaction\"><i class=\"fa fa-power-off icon-remove icon-large\"></i></button>');\n",
       "    button.click(function (evt) { fig.handle_close(fig, {}); } );\n",
       "    button.mouseover('Stop Interaction', toolbar_mouse_event);\n",
       "    buttongrp.append(button);\n",
       "    var titlebar = this.root.find($('.ui-dialog-titlebar'));\n",
       "    titlebar.prepend(buttongrp);\n",
       "}\n",
       "\n",
       "mpl.figure.prototype._root_extra_style = function(el){\n",
       "    var fig = this\n",
       "    el.on(\"remove\", function(){\n",
       "\tfig.close_ws(fig, {});\n",
       "    });\n",
       "}\n",
       "\n",
       "mpl.figure.prototype._canvas_extra_style = function(el){\n",
       "    // this is important to make the div 'focusable\n",
       "    el.attr('tabindex', 0)\n",
       "    // reach out to IPython and tell the keyboard manager to turn it's self\n",
       "    // off when our div gets focus\n",
       "\n",
       "    // location in version 3\n",
       "    if (IPython.notebook.keyboard_manager) {\n",
       "        IPython.notebook.keyboard_manager.register_events(el);\n",
       "    }\n",
       "    else {\n",
       "        // location in version 2\n",
       "        IPython.keyboard_manager.register_events(el);\n",
       "    }\n",
       "\n",
       "}\n",
       "\n",
       "mpl.figure.prototype._key_event_extra = function(event, name) {\n",
       "    var manager = IPython.notebook.keyboard_manager;\n",
       "    if (!manager)\n",
       "        manager = IPython.keyboard_manager;\n",
       "\n",
       "    // Check for shift+enter\n",
       "    if (event.shiftKey && event.which == 13) {\n",
       "        this.canvas_div.blur();\n",
       "        event.shiftKey = false;\n",
       "        // Send a \"J\" for go to next cell\n",
       "        event.which = 74;\n",
       "        event.keyCode = 74;\n",
       "        manager.command_mode();\n",
       "        manager.handle_keydown(event);\n",
       "    }\n",
       "}\n",
       "\n",
       "mpl.figure.prototype.handle_save = function(fig, msg) {\n",
       "    fig.ondownload(fig, null);\n",
       "}\n",
       "\n",
       "\n",
       "mpl.find_output_cell = function(html_output) {\n",
       "    // Return the cell and output element which can be found *uniquely* in the notebook.\n",
       "    // Note - this is a bit hacky, but it is done because the \"notebook_saving.Notebook\"\n",
       "    // IPython event is triggered only after the cells have been serialised, which for\n",
       "    // our purposes (turning an active figure into a static one), is too late.\n",
       "    var cells = IPython.notebook.get_cells();\n",
       "    var ncells = cells.length;\n",
       "    for (var i=0; i<ncells; i++) {\n",
       "        var cell = cells[i];\n",
       "        if (cell.cell_type === 'code'){\n",
       "            for (var j=0; j<cell.output_area.outputs.length; j++) {\n",
       "                var data = cell.output_area.outputs[j];\n",
       "                if (data.data) {\n",
       "                    // IPython >= 3 moved mimebundle to data attribute of output\n",
       "                    data = data.data;\n",
       "                }\n",
       "                if (data['text/html'] == html_output) {\n",
       "                    return [cell, data, j];\n",
       "                }\n",
       "            }\n",
       "        }\n",
       "    }\n",
       "}\n",
       "\n",
       "// Register the function which deals with the matplotlib target/channel.\n",
       "// The kernel may be null if the page has been refreshed.\n",
       "if (IPython.notebook.kernel != null) {\n",
       "    IPython.notebook.kernel.comm_manager.register_target('matplotlib', mpl.mpl_figure_comm);\n",
       "}\n"
      ],
      "text/plain": [
       "<IPython.core.display.Javascript object>"
      ]
     },
     "metadata": {},
     "output_type": "display_data"
    },
    {
     "data": {
      "text/html": [
       "<img src=\"data:image/png;base64,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\" width=\"800\">"
      ],
      "text/plain": [
       "<IPython.core.display.HTML object>"
      ]
     },
     "metadata": {},
     "output_type": "display_data"
    },
    {
     "data": {
      "text/plain": [
       "<matplotlib.axes._subplots.AxesSubplot at 0x2b1005412b0>"
      ]
     },
     "execution_count": 73,
     "metadata": {},
     "output_type": "execute_result"
    }
   ],
   "source": [
    "fig, axs = plt.subplots(1, 3, sharey=True)\n",
    "# 3 scatplots; sharey is true maintains each subplot with same y axis\n",
    "advertising.plot(kind='scatter', x='TV', y='sales', ax=axs[0], figsize=[8,4])\n",
    "# 1st scatplot\n",
    "advertising.plot(kind='scatter', x='radio', y='sales', ax=axs[1], figsize=[8,4])\n",
    "advertising.plot(kind='scatter', x='newspaper', y='sales', ax=axs[2], figsize=[8,4])"
   ]
  },
  {
   "cell_type": "markdown",
   "metadata": {},
   "source": [
    "##  linear regression"
   ]
  },
  {
   "cell_type": "code",
   "execution_count": 74,
   "metadata": {
    "collapsed": true
   },
   "outputs": [],
   "source": [
    "import statsmodels.formula.api as smf"
   ]
  },
  {
   "cell_type": "code",
   "execution_count": 78,
   "metadata": {
    "collapsed": true
   },
   "outputs": [],
   "source": [
    "lm = smf.ols(formula='sales ~ TV + radio + newspaper', data = advertising).fit()"
   ]
  },
  {
   "cell_type": "code",
   "execution_count": 76,
   "metadata": {},
   "outputs": [
    {
     "data": {
      "text/html": [
       "<table class=\"simpletable\">\n",
       "<caption>OLS Regression Results</caption>\n",
       "<tr>\n",
       "  <th>Dep. Variable:</th>          <td>sales</td>      <th>  R-squared:         </th> <td>   0.612</td>\n",
       "</tr>\n",
       "<tr>\n",
       "  <th>Model:</th>                   <td>OLS</td>       <th>  Adj. R-squared:    </th> <td>   0.610</td>\n",
       "</tr>\n",
       "<tr>\n",
       "  <th>Method:</th>             <td>Least Squares</td>  <th>  F-statistic:       </th> <td>   312.1</td>\n",
       "</tr>\n",
       "<tr>\n",
       "  <th>Date:</th>             <td>Fri, 12 Jan 2018</td> <th>  Prob (F-statistic):</th> <td>1.47e-42</td>\n",
       "</tr>\n",
       "<tr>\n",
       "  <th>Time:</th>                 <td>15:18:53</td>     <th>  Log-Likelihood:    </th> <td> -519.05</td>\n",
       "</tr>\n",
       "<tr>\n",
       "  <th>No. Observations:</th>      <td>   200</td>      <th>  AIC:               </th> <td>   1042.</td>\n",
       "</tr>\n",
       "<tr>\n",
       "  <th>Df Residuals:</th>          <td>   198</td>      <th>  BIC:               </th> <td>   1049.</td>\n",
       "</tr>\n",
       "<tr>\n",
       "  <th>Df Model:</th>              <td>     1</td>      <th>                     </th>     <td> </td>   \n",
       "</tr>\n",
       "<tr>\n",
       "  <th>Covariance Type:</th>      <td>nonrobust</td>    <th>                     </th>     <td> </td>   \n",
       "</tr>\n",
       "</table>\n",
       "<table class=\"simpletable\">\n",
       "<tr>\n",
       "      <td></td>         <th>coef</th>     <th>std err</th>      <th>t</th>      <th>P>|t|</th>  <th>[0.025</th>    <th>0.975]</th>  \n",
       "</tr>\n",
       "<tr>\n",
       "  <th>Intercept</th> <td>    7.0326</td> <td>    0.458</td> <td>   15.360</td> <td> 0.000</td> <td>    6.130</td> <td>    7.935</td>\n",
       "</tr>\n",
       "<tr>\n",
       "  <th>TV</th>        <td>    0.0475</td> <td>    0.003</td> <td>   17.668</td> <td> 0.000</td> <td>    0.042</td> <td>    0.053</td>\n",
       "</tr>\n",
       "</table>\n",
       "<table class=\"simpletable\">\n",
       "<tr>\n",
       "  <th>Omnibus:</th>       <td> 0.531</td> <th>  Durbin-Watson:     </th> <td>   1.935</td>\n",
       "</tr>\n",
       "<tr>\n",
       "  <th>Prob(Omnibus):</th> <td> 0.767</td> <th>  Jarque-Bera (JB):  </th> <td>   0.669</td>\n",
       "</tr>\n",
       "<tr>\n",
       "  <th>Skew:</th>          <td>-0.089</td> <th>  Prob(JB):          </th> <td>   0.716</td>\n",
       "</tr>\n",
       "<tr>\n",
       "  <th>Kurtosis:</th>      <td> 2.779</td> <th>  Cond. No.          </th> <td>    338.</td>\n",
       "</tr>\n",
       "</table>"
      ],
      "text/plain": [
       "<class 'statsmodels.iolib.summary.Summary'>\n",
       "\"\"\"\n",
       "                            OLS Regression Results                            \n",
       "==============================================================================\n",
       "Dep. Variable:                  sales   R-squared:                       0.612\n",
       "Model:                            OLS   Adj. R-squared:                  0.610\n",
       "Method:                 Least Squares   F-statistic:                     312.1\n",
       "Date:                Fri, 12 Jan 2018   Prob (F-statistic):           1.47e-42\n",
       "Time:                        15:18:53   Log-Likelihood:                -519.05\n",
       "No. Observations:                 200   AIC:                             1042.\n",
       "Df Residuals:                     198   BIC:                             1049.\n",
       "Df Model:                           1                                         \n",
       "Covariance Type:            nonrobust                                         \n",
       "==============================================================================\n",
       "                 coef    std err          t      P>|t|      [0.025      0.975]\n",
       "------------------------------------------------------------------------------\n",
       "Intercept      7.0326      0.458     15.360      0.000       6.130       7.935\n",
       "TV             0.0475      0.003     17.668      0.000       0.042       0.053\n",
       "==============================================================================\n",
       "Omnibus:                        0.531   Durbin-Watson:                   1.935\n",
       "Prob(Omnibus):                  0.767   Jarque-Bera (JB):                0.669\n",
       "Skew:                          -0.089   Prob(JB):                        0.716\n",
       "Kurtosis:                       2.779   Cond. No.                         338.\n",
       "==============================================================================\n",
       "\n",
       "Warnings:\n",
       "[1] Standard Errors assume that the covariance matrix of the errors is correctly specified.\n",
       "\"\"\""
      ]
     },
     "execution_count": 76,
     "metadata": {},
     "output_type": "execute_result"
    }
   ],
   "source": [
    "lm.summary()"
   ]
  },
  {
   "cell_type": "code",
   "execution_count": 82,
   "metadata": {},
   "outputs": [
    {
     "data": {
      "text/plain": [
       "Intercept    2.938889\n",
       "TV           0.045765\n",
       "radio        0.188530\n",
       "newspaper   -0.001037\n",
       "dtype: float64"
      ]
     },
     "execution_count": 82,
     "metadata": {},
     "output_type": "execute_result"
    }
   ],
   "source": [
    "lm.params"
   ]
  },
  {
   "cell_type": "markdown",
   "metadata": {},
   "source": [
    "## prediction"
   ]
  },
  {
   "cell_type": "code",
   "execution_count": 85,
   "metadata": {
    "collapsed": true
   },
   "outputs": [],
   "source": [
    "X_new = pd.DataFrame({'TV': [50000], 'radio': [10000], 'newspaper': [5000]})"
   ]
  },
  {
   "cell_type": "code",
   "execution_count": 86,
   "metadata": {},
   "outputs": [
    {
     "data": {
      "text/html": [
       "<div>\n",
       "<style>\n",
       "    .dataframe thead tr:only-child th {\n",
       "        text-align: right;\n",
       "    }\n",
       "\n",
       "    .dataframe thead th {\n",
       "        text-align: left;\n",
       "    }\n",
       "\n",
       "    .dataframe tbody tr th {\n",
       "        vertical-align: top;\n",
       "    }\n",
       "</style>\n",
       "<table border=\"1\" class=\"dataframe\">\n",
       "  <thead>\n",
       "    <tr style=\"text-align: right;\">\n",
       "      <th></th>\n",
       "      <th>TV</th>\n",
       "      <th>newspaper</th>\n",
       "      <th>radio</th>\n",
       "    </tr>\n",
       "  </thead>\n",
       "  <tbody>\n",
       "    <tr>\n",
       "      <th>0</th>\n",
       "      <td>50000</td>\n",
       "      <td>5000</td>\n",
       "      <td>10000</td>\n",
       "    </tr>\n",
       "  </tbody>\n",
       "</table>\n",
       "</div>"
      ],
      "text/plain": [
       "      TV  newspaper  radio\n",
       "0  50000       5000  10000"
      ]
     },
     "execution_count": 86,
     "metadata": {},
     "output_type": "execute_result"
    }
   ],
   "source": [
    "X_new.head()"
   ]
  },
  {
   "cell_type": "code",
   "execution_count": 87,
   "metadata": {},
   "outputs": [
    {
     "data": {
      "text/plain": [
       "0    4171.283866\n",
       "dtype: float64"
      ]
     },
     "execution_count": 87,
     "metadata": {},
     "output_type": "execute_result"
    }
   ],
   "source": [
    "lm.predict(X_new)"
   ]
  },
  {
   "cell_type": "code",
   "execution_count": 93,
   "metadata": {},
   "outputs": [
    {
     "data": {
      "text/html": [
       "<div>\n",
       "<style>\n",
       "    .dataframe thead tr:only-child th {\n",
       "        text-align: right;\n",
       "    }\n",
       "\n",
       "    .dataframe thead th {\n",
       "        text-align: left;\n",
       "    }\n",
       "\n",
       "    .dataframe tbody tr th {\n",
       "        vertical-align: top;\n",
       "    }\n",
       "</style>\n",
       "<table border=\"1\" class=\"dataframe\">\n",
       "  <thead>\n",
       "    <tr style=\"text-align: right;\">\n",
       "      <th></th>\n",
       "      <th>0</th>\n",
       "      <th>1</th>\n",
       "    </tr>\n",
       "  </thead>\n",
       "  <tbody>\n",
       "    <tr>\n",
       "      <th>Intercept</th>\n",
       "      <td>2.323762</td>\n",
       "      <td>3.554016</td>\n",
       "    </tr>\n",
       "    <tr>\n",
       "      <th>TV</th>\n",
       "      <td>0.043014</td>\n",
       "      <td>0.048516</td>\n",
       "    </tr>\n",
       "    <tr>\n",
       "      <th>radio</th>\n",
       "      <td>0.171547</td>\n",
       "      <td>0.205513</td>\n",
       "    </tr>\n",
       "    <tr>\n",
       "      <th>newspaper</th>\n",
       "      <td>-0.012616</td>\n",
       "      <td>0.010541</td>\n",
       "    </tr>\n",
       "  </tbody>\n",
       "</table>\n",
       "</div>"
      ],
      "text/plain": [
       "                  0         1\n",
       "Intercept  2.323762  3.554016\n",
       "TV         0.043014  0.048516\n",
       "radio      0.171547  0.205513\n",
       "newspaper -0.012616  0.010541"
      ]
     },
     "execution_count": 93,
     "metadata": {},
     "output_type": "execute_result"
    }
   ],
   "source": [
    "lm.conf_int()\n",
    "# Returns the confidence interval of the fitted parameters."
   ]
  },
  {
   "cell_type": "markdown",
   "metadata": {},
   "source": [
    "Day 1 Jupyter Notebook Reference File; \n",
    "Day 2 Jupyter Notebook Reference File - Statistics:\n",
    "\n",
    "https://drive.google.com/open?id=1iEzUh6Ih9pXvk66vNeAA3AVKNihl-nMD"
   ]
  },
  {
   "cell_type": "code",
   "execution_count": null,
   "metadata": {
    "collapsed": true
   },
   "outputs": [],
   "source": []
  }
 ],
 "metadata": {
  "kernelspec": {
   "display_name": "Python 3",
   "language": "python",
   "name": "python3"
  },
  "language_info": {
   "codemirror_mode": {
    "name": "ipython",
    "version": 3
   },
   "file_extension": ".py",
   "mimetype": "text/x-python",
   "name": "python",
   "nbconvert_exporter": "python",
   "pygments_lexer": "ipython3",
   "version": "3.6.3"
  }
 },
 "nbformat": 4,
 "nbformat_minor": 2
}
